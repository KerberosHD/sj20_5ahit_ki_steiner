{
 "cells": [
  {
   "cell_type": "code",
   "execution_count": 2,
   "metadata": {},
   "outputs": [],
   "source": [
    "import numpy as np"
   ]
  },
  {
   "cell_type": "code",
   "execution_count": 9,
   "metadata": {},
   "outputs": [],
   "source": [
    "#Implement the logic of the activation function (=> Step Function!) \n",
    "#@Return: 0 or 1\n",
    "def activation(value):\n",
    "    if value >= 0:\n",
    "        return 1\n",
    "    return 0\n",
    "    \n",
    "#Implement the code needed for the perceptron. Use np.dot(...)\n",
    "#@Args: \n",
    "#  x...value (vector => 1D Tensor), \n",
    "#  w...weight (vector => 1D Tensor), \n",
    "#  b...bias (just a value)\n",
    "#@Return: Value (Skalar eg. 1.0)\n",
    "def perceptron(x, w, b):\n",
    "    return np.dot(x, w) + b"
   ]
  },
  {
   "cell_type": "code",
   "execution_count": 10,
   "metadata": {},
   "outputs": [
    {
     "name": "stdout",
     "output_type": "stream",
     "text": [
      "OR 0,0: 0\n",
      "OR 0,1: 1\n",
      "OR 1,0: 1\n",
      "OR 1,1: 1\n"
     ]
    }
   ],
   "source": [
    "# Test your code and check the results!\n",
    "ex1 = np.array([0, 0])\n",
    "ex2 = np.array([0, 1])\n",
    "ex3 = np.array([1, 0])\n",
    "ex4 = np.array([1, 1])\n",
    "\n",
    "def OR_perceptron(x):\n",
    "    # Define weights \n",
    "    w = [1,1]\n",
    "    # Define Bias-value\n",
    "    b = -1\n",
    "    #Calculate Sigma\n",
    "    sig = perceptron(x, w, b)\n",
    "    return activation(sig)\n",
    "    #Call Acivation Function\n",
    "\n",
    "print(f\"OR {ex1[0]},{ex1[1]}:\", OR_perceptron(ex1))\n",
    "print(f\"OR {ex2[0]},{ex2[1]}:\", OR_perceptron(ex2))\n",
    "print(f\"OR {ex3[0]},{ex3[1]}:\", OR_perceptron(ex3))\n",
    "print(f\"OR {ex4[0]},{ex4[1]}:\", OR_perceptron(ex4))"
   ]
  }
 ],
 "metadata": {
  "kernelspec": {
   "display_name": "Python 3",
   "language": "python",
   "name": "python3"
  },
  "language_info": {
   "codemirror_mode": {
    "name": "ipython",
    "version": 3
   },
   "file_extension": ".py",
   "mimetype": "text/x-python",
   "name": "python",
   "nbconvert_exporter": "python",
   "pygments_lexer": "ipython3",
   "version": "3.8.3"
  }
 },
 "nbformat": 4,
 "nbformat_minor": 2
}
