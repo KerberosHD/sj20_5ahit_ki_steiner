{
 "cells": [
  {
   "cell_type": "markdown",
   "metadata": {},
   "source": [
    "# NumPy - erste Schritte\n",
    "Bei **Numpy** (https://numpy.org/doc/stable/index.html) handelt es sich um ein Modul, welches grundlegende Datenstrukturen (mehrdimensionale Arrays und Matrizen) zur Verfügung stellt, die auch *Matplotlib*, *SciPy* und *Pandas* benutzt werden. Die Bezeichnung NumPy ist eine Abkürzung für \"Numerical Python\" (Numerisches Python). Was damit gemeint ist, werden die nachfolgenden Übung verdeutlichen. \n",
    "\n",
    "Wissenswert ist, dass ein großer Teil von NumPy in C geschrieben worden ist. Die kompilierten mathematischen und numerischen Funktionen und Funktionalitäten werden somit mit \"größter\" Geschwindigkeit ausgeführt.."
   ]
  },
  {
   "cell_type": "code",
   "execution_count": 5,
   "metadata": {},
   "outputs": [],
   "source": [
    "import numpy as mp #Die Konvention ist np nicht mp"
   ]
  },
  {
   "cell_type": "code",
   "execution_count": 5,
   "metadata": {},
   "outputs": [
    {
     "name": "stdout",
     "output_type": "stream",
     "text": [
      "[20.1, 20.8, 21.9, 22.5, 22.7]\n",
      "[20.1 20.8 21.9 22.5 22.7] <class 'numpy.ndarray'>\n"
     ]
    }
   ],
   "source": [
    "#Definition einer klassischen Python-Liste mit z.B. Temperaturwerten\n",
    "c_values = [20.1, 20.8, 21.9, 22.5, 22.7]\n",
    "print(c_values)\n",
    "\n",
    "#aus einer Liste kann man ein sog. NumPy-Array erzeugen:\n",
    "c = mp.array(c_values)\n",
    "print(c, type(c))"
   ]
  },
  {
   "cell_type": "code",
   "execution_count": 8,
   "metadata": {},
   "outputs": [
    {
     "name": "stdout",
     "output_type": "stream",
     "text": [
      "[68.18, 69.44, 71.42, 72.5, 72.86]\n",
      "[68.18, 69.44, 71.42, 72.5, 72.86]\n"
     ]
    }
   ],
   "source": [
    "#Berechne die Temperaturwert in \"Fahrenheit\", und zwar mit klassischen Python: C * 1.8 +32\n",
    "\n",
    "#Lösung mit einer sog. List Comprehension:\n",
    "f_values = [val * 1.8 + 32 for val in c_values]\n",
    "print(f_values)\n",
    "\n",
    "\n",
    "#Klassische Lösung mit for Loop\n",
    "f_values = []\n",
    "for temp in c_values:\n",
    "    f_values.append(float(temp * 1.8 +32))\n",
    "print(f_values)"
   ]
  },
  {
   "cell_type": "code",
   "execution_count": 11,
   "metadata": {},
   "outputs": [
    {
     "name": "stdout",
     "output_type": "stream",
     "text": [
      "[68.18 69.44 71.42 72.5  72.86]\n",
      "[20.1 20.8 21.9 22.5 22.7]\n"
     ]
    }
   ],
   "source": [
    "print(c * 1.8 +32) # mit numpy können numerische Operationen an einem array angewendet werden\n",
    "print(c) # c wird nicht verändert"
   ]
  },
  {
   "cell_type": "code",
   "execution_count": null,
   "metadata": {},
   "outputs": [],
   "source": [
    "# Genau genommen, ist 'c' eine Instanz der Klasse numpy.ndarray!\n",
    "type(c)"
   ]
  },
  {
   "cell_type": "markdown",
   "metadata": {},
   "source": [
    "## Grafische Darstellung der Werte\n",
    "Um zu demonstrieren, wie schnell mithilfe von *Matplotlib* ansprechende Diagramme erstellt werden können, geben wir die oben erstellten Temperaturwerte mit diesem Modul aus. Eine detaillierte Besprechung des Moduls erfolgt später. "
   ]
  },
  {
   "cell_type": "code",
   "execution_count": 15,
   "metadata": {},
   "outputs": [
    {
     "data": {
      "image/png": "[encoded data removed]",
      "text/plain": [
       "<Figure size 432x288 with 1 Axes>"
      ]
     },
     "metadata": {
      "needs_background": "light"
     },
     "output_type": "display_data"
    }
   ],
   "source": [
    "#im Jupyter Notebook prüfen, welche Variante funktioniert (mit oder ohne 'inline')\n",
    "#%matplotlip inline   //vielleicht braucht man dass\n",
    "import matplotlib.pyplot as plt\n",
    "\n",
    "plt.plot(c)\n",
    "plt.show()"
   ]
  },
  {
   "cell_type": "markdown",
   "metadata": {},
   "source": [
    "Die Werte des Arrays `c` dienen als Grundlage für die Ordinate (y-Achse). Die Indizes sind der Abszisse (x-Achse) zu entnehmen. "
   ]
  },
  {
   "cell_type": "markdown",
   "metadata": {},
   "source": [
    "## Weitere Funktionen zum Erzeugen von Arrays\n",
    "NumPy bietet Funktionen, um Intervalle mit Werten zu erzeugen, deren abstände gleichmäßig verteilt sind. \n",
    "\n",
    "\n",
    "### arange\n",
    "**arange** liefert gleichmäßig verteilte Werte innerhalb eines Intervalls zurück. Mit Interger-Werte ist diese Funktion Quasi-Äquivalent\" mit der Python-Funktion `range`"
   ]
  },
  {
   "cell_type": "code",
   "execution_count": 22,
   "metadata": {},
   "outputs": [
    {
     "name": "stdout",
     "output_type": "stream",
     "text": [
      "[0 2 4] <class 'numpy.ndarray'>\n",
      "int8\n"
     ]
    }
   ],
   "source": [
    "a = mp.arange(0, 6, 2, dtype=\"uint8\") # Das Intervall inkludiert den Start-, aber nicht mehr den Stopwert!\n",
    "print(a, type(a))   #u heißt dass es unsigned ist als 255 sonst wäre es signed : -127 bis 128\n",
    "print(a.dtype)"
   ]
  },
  {
   "cell_type": "markdown",
   "metadata": {},
   "source": [
    "### Nulldimensionale Arrays\n",
    "Nulldimensionale Arrays werden auch **Skalare** oder **0-D-Tensor** genannt. Hierbei handelt es sich um einen Tensor, der nur **einen Wert** enthält. Mit `ndim` erhält man die Dimension des Tensors, mit `dtype` den Typ des Arrays. Nachdem NumPy C-basiert ist, sind viel mehr Datentypen (z.B. int8, int16 etc.) möglich."
   ]
  },
  {
   "cell_type": "code",
   "execution_count": 7,
   "metadata": {},
   "outputs": [
    {
     "name": "stdout",
     "output_type": "stream",
     "text": [
      "x: 27\n",
      "Typ von x: <class 'numpy.ndarray'>\n",
      "Dimension von x: 0\n",
      "Dimension von x: 0\n",
      "Datentyp der Werte von x: int32\n"
     ]
    }
   ],
   "source": [
    "x = mp.array(27)\n",
    "print(\"x:\", x)\n",
    "print(\"Typ von x:\", type(x))\n",
    "print(\"Dimension von x:\", x.ndim) # :)\n",
    "print(\"Dimension von x:\" , mp.ndim(x))\n",
    "print(\"Datentyp der Werte von x:\", x.dtype)"
   ]
  },
  {
   "cell_type": "markdown",
   "metadata": {},
   "source": [
    "### Eindimensionales Array\n",
    "Ein Array von Zahlen wird als **Vektor** oder **1-D-Tensor** bezeichnet. Ein 1-D-Tensor besitzt genau 1 Achse."
   ]
  },
  {
   "cell_type": "code",
   "execution_count": 8,
   "metadata": {},
   "outputs": [
    {
     "name": "stdout",
     "output_type": "stream",
     "text": [
      "x: [12  4 23 14]\n",
      "Dimension von x: 1\n"
     ]
    }
   ],
   "source": [
    "x = mp.array([12, 4, 23, 14])\n",
    "print(\"x:\", x)\n",
    "print(\"Dimension von x:\" , mp.ndim(x))"
   ]
  },
  {
   "cell_type": "markdown",
   "metadata": {},
   "source": [
    "### Zweidimensionale Arrays\n",
    "Ein Array von Vektoren nennt man **2-D-Tensor** oder **Matrix**. Eine Matrix besitzt 2 Achsen, die oft als *Zeilen* und *Spalten* bezeichnet werden. Die Inhalte der ersten Achse heißen Zeile, die Inhalte der zweitem Spalten. "
   ]
  },
  {
   "cell_type": "code",
   "execution_count": 13,
   "metadata": {},
   "outputs": [
    {
     "name": "stdout",
     "output_type": "stream",
     "text": [
      "x: [[12  4 23 14 56]\n",
      " [13  5 24 15 57]\n",
      " [14  6 25 16 58]]\n",
      "Dimension von x: 2\n"
     ]
    }
   ],
   "source": [
    "#von oben nach unten ist die axis = 0\n",
    "# von links nach rechts ist das die axis 1\n",
    "# Diese Information ist beim Zugriff auf die Datenstruktur wichtig => ob Zugriff spalten - oder Zeilenweise erfolgen soll!\n",
    "x = mp.array([[12, 4, 23, 14, 56], \n",
    "             [13, 5, 24 ,15 , 57],\n",
    "             [14, 6, 25, 16, 58]])\n",
    "print(\"x:\", x)\n",
    "print(\"Dimension von x:\" , x.ndim)"
   ]
  },
  {
   "cell_type": "markdown",
   "metadata": {},
   "source": [
    "> 3-D-Tensoren und höherdimensionale Tensoren sehen wir uns zu einem späteren Zeitpunkt an!"
   ]
  },
  {
   "cell_type": "markdown",
   "metadata": {},
   "source": [
    "### Shape bzw. die Gestalt eines Arrays\n",
    "\n",
    "Die Funktion `shape` liefert Informationen über die Gestalt eines Arrays. De Return-Wert ist ein Integer-Tupel. Vereinfacht ausgedrückt, ist liefert `shape` die Anzahl der Elemente pro Achse (Dimensionen). Im obigen Bsp. ist die Shape gleich **(3,5)**. Das bedeutet, dass wir **3 Zeilen** und **5 Spalten** haben. "
   ]
  },
  {
   "cell_type": "code",
   "execution_count": 14,
   "metadata": {},
   "outputs": [
    {
     "name": "stdout",
     "output_type": "stream",
     "text": [
      "(3, 5)\n"
     ]
    }
   ],
   "source": [
    "print(x.shape)"
   ]
  },
  {
   "cell_type": "markdown",
   "metadata": {},
   "source": [
    "> Der Output von `shape`sagt auch etwas über die Reihenfolge, mit der die Indizes ausgeführt werden, aus, dh. zuerst die Zeilen, dann die Spalten (und dann gegebenenfalls noch weitere Dimensionen)."
   ]
  },
  {
   "cell_type": "markdown",
   "metadata": {},
   "source": [
    "Jetzt ein wenig *magic*: Mit `shape` kann man die Gestalt eines Arrays verändern."
   ]
  },
  {
   "cell_type": "code",
   "execution_count": null,
   "metadata": {},
   "outputs": [],
   "source": [
    "x.shape = (5,3)"
   ]
  },
  {
   "cell_type": "markdown",
   "metadata": {},
   "source": [
    "## Matrizenmultiplikation und Skalarprodukt\n",
    "In englischen Texten wird häufig vom 'dot product' gesprochen. Mathematisch versteht man darunter das Skalarprodukt von zwei Vektoren. Um das Skalarprodukt zu berechnen, stellt NumPy die `dot`-Funktion zur Verfügung. **Hinweis**: Die `dot`-Funktion kann auch auf mehrdimensionale Arrays angewandt werden."
   ]
  },
  {
   "cell_type": "code",
   "execution_count": 16,
   "metadata": {},
   "outputs": [
    {
     "name": "stdout",
     "output_type": "stream",
     "text": [
      "12\n",
      "-14\n"
     ]
    }
   ],
   "source": [
    "#Eingänge: x1......xn\n",
    "# Gewichte: w1.....wn\n",
    "x = mp.array([3])\n",
    "w = mp.array([4])\n",
    "print(mp.dot(x,w))\n",
    "\n",
    "x = mp.array([3, -2])\n",
    "w = mp.array([-4, 1])\n",
    "print(mp.dot(x,w))\n"
   ]
  }
 ],
 "metadata": {
  "kernelspec": {
   "display_name": "Python 3",
   "language": "python",
   "name": "python3"
  },
  "language_info": {
   "codemirror_mode": {
    "name": "ipython",
    "version": 3
   },
   "file_extension": ".py",
   "mimetype": "text/x-python",
   "name": "python",
   "nbconvert_exporter": "python",
   "pygments_lexer": "ipython3",
   "version": "3.8.3"
  }
 },
 "nbformat": 4,
 "nbformat_minor": 2
}
