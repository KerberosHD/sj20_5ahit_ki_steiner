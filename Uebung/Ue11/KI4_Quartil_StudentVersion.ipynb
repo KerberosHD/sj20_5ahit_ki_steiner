{
 "cells": [
  {
   "cell_type": "markdown",
   "metadata": {},
   "source": [
    "# Quartile - wozu?\n",
    "Angenommen, Sie sind Trainer einer Basketballmannschaft und möchten einen neuen Spieler verpflichten. Um nicht die Katze im Sack zu kaufen, macht eine Analyse deren Wurfstatistik Sinn."
   ]
  },
  {
   "cell_type": "code",
   "execution_count": 1,
   "metadata": {},
   "outputs": [],
   "source": [
    "import pandas as pd"
   ]
  },
  {
   "cell_type": "markdown",
   "metadata": {},
   "source": [
    "**Anm.:** Nachfolgende Listen `p1`, `p2` und `p3` enthalten die Anzahl der geworfenen Körbe je Spiel. Spieler 1 hat bspw. in einem Spiel 7 Körbe, im nächsten 8 Körbe und dann 2x 9 Körbe usw. geworfen."
   ]
  },
  {
   "cell_type": "code",
   "execution_count": 3,
   "metadata": {},
   "outputs": [
    {
     "data": {
      "text/html": [
       "<div>\n",
       "<style scoped>\n",
       "    .dataframe tbody tr th:only-of-type {\n",
       "        vertical-align: middle;\n",
       "    }\n",
       "\n",
       "    .dataframe tbody tr th {\n",
       "        vertical-align: top;\n",
       "    }\n",
       "\n",
       "    .dataframe thead th {\n",
       "        text-align: right;\n",
       "    }\n",
       "</style>\n",
       "<table border=\"1\" class=\"dataframe\">\n",
       "  <thead>\n",
       "    <tr style=\"text-align: right;\">\n",
       "      <th></th>\n",
       "      <th>Player 1</th>\n",
       "      <th>Player 2</th>\n",
       "      <th>Player 3</th>\n",
       "    </tr>\n",
       "  </thead>\n",
       "  <tbody>\n",
       "    <tr>\n",
       "      <th>0</th>\n",
       "      <td>7</td>\n",
       "      <td>7</td>\n",
       "      <td>3</td>\n",
       "    </tr>\n",
       "    <tr>\n",
       "      <th>1</th>\n",
       "      <td>8</td>\n",
       "      <td>9</td>\n",
       "      <td>3</td>\n",
       "    </tr>\n",
       "    <tr>\n",
       "      <th>2</th>\n",
       "      <td>9</td>\n",
       "      <td>9</td>\n",
       "      <td>6</td>\n",
       "    </tr>\n",
       "    <tr>\n",
       "      <th>3</th>\n",
       "      <td>9</td>\n",
       "      <td>10</td>\n",
       "      <td>7</td>\n",
       "    </tr>\n",
       "    <tr>\n",
       "      <th>4</th>\n",
       "      <td>10</td>\n",
       "      <td>10</td>\n",
       "      <td>7</td>\n",
       "    </tr>\n",
       "    <tr>\n",
       "      <th>5</th>\n",
       "      <td>10</td>\n",
       "      <td>10</td>\n",
       "      <td>10</td>\n",
       "    </tr>\n",
       "    <tr>\n",
       "      <th>6</th>\n",
       "      <td>10</td>\n",
       "      <td>10</td>\n",
       "      <td>10</td>\n",
       "    </tr>\n",
       "    <tr>\n",
       "      <th>7</th>\n",
       "      <td>11</td>\n",
       "      <td>10</td>\n",
       "      <td>10</td>\n",
       "    </tr>\n",
       "    <tr>\n",
       "      <th>8</th>\n",
       "      <td>11</td>\n",
       "      <td>11</td>\n",
       "      <td>11</td>\n",
       "    </tr>\n",
       "    <tr>\n",
       "      <th>9</th>\n",
       "      <td>12</td>\n",
       "      <td>11</td>\n",
       "      <td>13</td>\n",
       "    </tr>\n",
       "    <tr>\n",
       "      <th>10</th>\n",
       "      <td>13</td>\n",
       "      <td>13</td>\n",
       "      <td>30</td>\n",
       "    </tr>\n",
       "  </tbody>\n",
       "</table>\n",
       "</div>"
      ],
      "text/plain": [
       "    Player 1  Player 2  Player 3\n",
       "0          7         7         3\n",
       "1          8         9         3\n",
       "2          9         9         6\n",
       "3          9        10         7\n",
       "4         10        10         7\n",
       "5         10        10        10\n",
       "6         10        10        10\n",
       "7         11        10        10\n",
       "8         11        11        11\n",
       "9         12        11        13\n",
       "10        13        13        30"
      ]
     },
     "execution_count": 3,
     "metadata": {},
     "output_type": "execute_result"
    }
   ],
   "source": [
    "p1 = [7, 8 , 9, 9, 10, 10, 10, 11, 11, 12, 13]\n",
    "\n",
    "p2 = [7, 9, 9, 10, 10, 10, 10, 10, 11, 11, 13]\n",
    "\n",
    "p3 = [3, 3, 6, 7, 7, 10, 10, 10, 11, 13, 30]\n",
    "\n",
    "data = {\"Player 1\" : p1,\n",
    "        \"Player 2\" : p2,\n",
    "        \"Player 3\" : p3}\n",
    "\n",
    "# @ToDo: DF erstellen\n",
    "df = pd.DataFrame(data)\n",
    "df"
   ]
  },
  {
   "cell_type": "code",
   "execution_count": 4,
   "metadata": {},
   "outputs": [
    {
     "data": {
      "text/plain": [
       "Player 1    10.0\n",
       "Player 2    10.0\n",
       "Player 3    10.0\n",
       "dtype: float64"
      ]
     },
     "execution_count": 4,
     "metadata": {},
     "output_type": "execute_result"
    }
   ],
   "source": [
    "# @ToDo: Arithmetischen Mittel/Spieler:\n",
    "df.mean()"
   ]
  },
  {
   "cell_type": "code",
   "execution_count": null,
   "metadata": {},
   "outputs": [],
   "source": [
    "# @ToDo: Median/Spieler\n",
    "df.median()"
   ]
  },
  {
   "cell_type": "markdown",
   "metadata": {},
   "source": [
    "Wir sehen, dass alle Spieler den gleichen arithmetischen Mittelwert als auch Median aufweisen. Blöd, denn das hilft unserem Coach definitiv nicht weiter. **Hintergrund**: Mit Mittelwerten kann man das Zentrum einer Datenreihe bestimmen, aber sie sagen uns nichts über die Variation darin. Auch wenn alle Spieler den gleichen mittlern Punktestand haben, gibt es zwischen den Datenreihen erhebliche Unterschiede. Diese gilt es herauszufinden, und zwar durch die Berechnung der Quartile (Viertel).  "
   ]
  },
  {
   "cell_type": "markdown",
   "metadata": {},
   "source": [
    "## Quartil berechnen\n",
    "Eine geordnete Liste (Datenreihe) hat üblicherweise **drei** Quartile, die die Liste in vier Teile unterteilt. Diese vier Teile bestehen aus (fast) gleich vielen Werten. \n",
    "\n",
    "Es gilt:\n",
    "- Das erste Quartil **Q1** ist >= 25% aller Werte der Datenreihe und <= als 75% aller Werte.\n",
    "- Das zweite Quartil **Q2** (=Median) ist >= 50% aller Werte der Datenreihe und <= als 50% aller Werte.\n",
    "- Das dritte Quartil **Q3** ist >= 75% aller Werte der Datenreihe und <= 25% aller Werte.\n",
    "\n",
    "\n",
    "**Darstellung am Beispiel (keine Spieler-Daten!): `1 1 1 2 2 2 2 3 3 3 3 3 4 4 4 4 5 5 5 10`**\n",
    "\n",
    "<span style=\"color:blue\">1 1 1 2 2 </span> Q1  <span style=\"color:red\">2 2 3 3 3 </span> Q2 <span style=\"color:green\"> 3 3 4 4 4</span> Q3 <span style=\"color:orange\">4 5 5 5 10</span>\n",
    "\n",
    "Der **Interquartilsabstand** schließt Ausreißer aus, indem er nur die mittlern 50% der Daten benutzt. Als Ausreißer werden extrem hohe oder niedrige Werte bezeichnet. Der Interquartilsabstand liegt also zwischen Q1 und Q3 - 25% der Werte liegen somit darunter bzw. darüber!"
   ]
  },
  {
   "cell_type": "code",
   "execution_count": 5,
   "metadata": {},
   "outputs": [],
   "source": [
    "import matplotlib.pyplot as plt"
   ]
  },
  {
   "cell_type": "code",
   "execution_count": 6,
   "metadata": {},
   "outputs": [
    {
     "data": {
      "image/png": "[encoded data removed]",
      "text/plain": [
       "<Figure size 432x288 with 1 Axes>"
      ]
     },
     "metadata": {
      "needs_background": "light"
     },
     "output_type": "display_data"
    }
   ],
   "source": [
    "fig = plt.figure()\n",
    "ax = fig.add_axes([0,0,1.5,1.5])\n",
    "bp = ax.boxplot([p1, p2, p3], vert=False, showfliers=False, widths=0.6, labels=[\"Player 1\", \"Player 2\", \"Player 3\"])\n",
    "plt.show()"
   ]
  },
  {
   "cell_type": "markdown",
   "metadata": {},
   "source": [
    "**Erläuterung Boxplot**: Die orange Linie markiert den Median (bei den allen Spielern 10). Das Rechteck, das die Median-Linie umfasst, begrenzt den sog. Interquartilsabstand. Die Linie mit den kopfseitigen vertikalen Abschlüssen markiert die Spannweite mit dem Maximal- als auch Minimalwert der jeweiligen Datenreihe."
   ]
  },
  {
   "cell_type": "markdown",
   "metadata": {},
   "source": [
    "Ausgabe der Quartile mittels `describe()` oder  der Methode `quantile`:"
   ]
  },
  {
   "cell_type": "code",
   "execution_count": 8,
   "metadata": {},
   "outputs": [
    {
     "data": {
      "text/html": [
       "<div>\n",
       "<style scoped>\n",
       "    .dataframe tbody tr th:only-of-type {\n",
       "        vertical-align: middle;\n",
       "    }\n",
       "\n",
       "    .dataframe tbody tr th {\n",
       "        vertical-align: top;\n",
       "    }\n",
       "\n",
       "    .dataframe thead th {\n",
       "        text-align: right;\n",
       "    }\n",
       "</style>\n",
       "<table border=\"1\" class=\"dataframe\">\n",
       "  <thead>\n",
       "    <tr style=\"text-align: right;\">\n",
       "      <th></th>\n",
       "      <th>Player 1</th>\n",
       "      <th>Player 2</th>\n",
       "      <th>Player 3</th>\n",
       "    </tr>\n",
       "  </thead>\n",
       "  <tbody>\n",
       "    <tr>\n",
       "      <th>0.25</th>\n",
       "      <td>9.0</td>\n",
       "      <td>9.5</td>\n",
       "      <td>6.5</td>\n",
       "    </tr>\n",
       "    <tr>\n",
       "      <th>0.75</th>\n",
       "      <td>11.0</td>\n",
       "      <td>10.5</td>\n",
       "      <td>10.5</td>\n",
       "    </tr>\n",
       "  </tbody>\n",
       "</table>\n",
       "</div>"
      ],
      "text/plain": [
       "      Player 1  Player 2  Player 3\n",
       "0.25       9.0       9.5       6.5\n",
       "0.75      11.0      10.5      10.5"
      ]
     },
     "execution_count": 8,
     "metadata": {},
     "output_type": "execute_result"
    }
   ],
   "source": [
    "# @ToDo\n",
    "df.describe()\n",
    "df.quantile([0.25, 0.75])"
   ]
  },
  {
   "cell_type": "markdown",
   "metadata": {},
   "source": [
    "Details bzgl. der Quartil-Berechnung liefer `qcut()` (Quelle: https://pandas.pydata.org/pandas-docs/stable/reference/api/pandas.qcut.html#pandas-qcut) "
   ]
  },
  {
   "cell_type": "code",
   "execution_count": 9,
   "metadata": {},
   "outputs": [
    {
     "data": {
      "text/plain": [
       "0     0\n",
       "1     0\n",
       "2     0\n",
       "3     1\n",
       "4     1\n",
       "5     1\n",
       "6     1\n",
       "7     1\n",
       "8     3\n",
       "9     3\n",
       "10    3\n",
       "Name: Player 2, dtype: int64"
      ]
     },
     "execution_count": 9,
     "metadata": {},
     "output_type": "execute_result"
    }
   ],
   "source": [
    "# Daten des Spielers 2: 7, 9, 9, | 10, 10, 10, 10, 10, | 11, 11, 13\n",
    "# @ToDo\n",
    "pd.qcut(df['Player 2'], q=4, labels = False)"
   ]
  }
 ],
 "metadata": {
  "kernelspec": {
   "display_name": "Python 3",
   "language": "python",
   "name": "python3"
  },
  "language_info": {
   "codemirror_mode": {
    "name": "ipython",
    "version": 3
   },
   "file_extension": ".py",
   "mimetype": "text/x-python",
   "name": "python",
   "nbconvert_exporter": "python",
   "pygments_lexer": "ipython3",
   "version": "3.8.3"
  }
 },
 "nbformat": 4,
 "nbformat_minor": 2
}
